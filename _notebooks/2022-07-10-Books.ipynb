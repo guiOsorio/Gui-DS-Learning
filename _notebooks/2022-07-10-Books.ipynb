{
 "cells": [
  {
   "cell_type": "markdown",
   "id": "f3160f96",
   "metadata": {},
   "source": [
    "# Book Shelf\n",
    "> Books I have read\n",
    "\n",
    "- toc: true\n",
    "- branch: true\n",
    "- badges: true\n",
    "- comments: true\n",
    "- author: Gui Osorio"
   ]
  },
  {
   "cell_type": "markdown",
   "id": "39125575",
   "metadata": {},
   "source": [
    "Quick post to keep track of the books I read relating to Data Science by topic."
   ]
  },
  {
   "cell_type": "markdown",
   "id": "6d5834d1",
   "metadata": {},
   "source": [
    "## Statistics"
   ]
  },
  {
   "cell_type": "markdown",
   "id": "d6206fc0",
   "metadata": {},
   "source": [
    "- 'Naked Statistics' by Charles Wheelan\n",
    "- 'Statistical Inference' by George Casella & Roger Berger"
   ]
  },
  {
   "cell_type": "markdown",
   "id": "4225dad4",
   "metadata": {},
   "source": [
    "## Data Visualization"
   ]
  },
  {
   "cell_type": "markdown",
   "id": "5b79d014",
   "metadata": {},
   "source": [
    "- 'Storytelling with Data' by Cole Nussbaumer Knaflic"
   ]
  },
  {
   "cell_type": "markdown",
   "id": "f08e477e",
   "metadata": {},
   "source": [
    "## Machine Learning"
   ]
  },
  {
   "cell_type": "markdown",
   "id": "cc5c6bd6",
   "metadata": {},
   "source": [
    "- 'Machine Learning Simplified' by Andrew Wolf\n",
    "- 'Linear Algebra for Machine Learning' by Jason Brownlee\n",
    "- 'The Elements of Statistical Learning' by Trevor Hastie & Robert Tibshirani & Jerome Friedman"
   ]
  },
  {
   "cell_type": "markdown",
   "id": "3e275a31",
   "metadata": {},
   "source": [
    "More to come!!\n",
    "\n",
    "Gui"
   ]
  },
  {
   "cell_type": "code",
   "execution_count": null,
   "id": "c4a420e6",
   "metadata": {},
   "outputs": [],
   "source": []
  }
 ],
 "metadata": {
  "kernelspec": {
   "display_name": "Python 3 (ipykernel)",
   "language": "python",
   "name": "python3"
  },
  "language_info": {
   "codemirror_mode": {
    "name": "ipython",
    "version": 3
   },
   "file_extension": ".py",
   "mimetype": "text/x-python",
   "name": "python",
   "nbconvert_exporter": "python",
   "pygments_lexer": "ipython3",
   "version": "3.9.7"
  }
 },
 "nbformat": 4,
 "nbformat_minor": 5
}
