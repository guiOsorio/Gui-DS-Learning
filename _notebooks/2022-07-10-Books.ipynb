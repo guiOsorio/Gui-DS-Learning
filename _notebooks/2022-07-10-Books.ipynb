{
 "cells": [
  {
   "cell_type": "markdown",
   "id": "27180ff0",
   "metadata": {},
   "source": [
    "# Book Shelf\n",
    "> Books I have read\n",
    "\n",
    "- toc: true\n",
    "- branch: true\n",
    "- badges: true\n",
    "- comments: true\n",
    "- author: Gui Osorio"
   ]
  },
  {
   "cell_type": "markdown",
   "id": "0cfae394",
   "metadata": {},
   "source": [
    "Quick post to keep track of the books I read relating to Data Science by topic."
   ]
  },
  {
   "cell_type": "markdown",
   "id": "a4cf2919",
   "metadata": {},
   "source": [
    "## Statistics"
   ]
  },
  {
   "cell_type": "markdown",
   "id": "76560a36",
   "metadata": {},
   "source": [
    "- 'Naked Statistics: Stripping the Dread from the Data' by Charles Wheelan\n",
    "- 'Statistical Inference' by George Casella & Roger Berger"
   ]
  },
  {
   "cell_type": "markdown",
   "id": "e1b6e39c",
   "metadata": {},
   "source": [
    "## Data Visualization"
   ]
  },
  {
   "cell_type": "markdown",
   "id": "88f67d07",
   "metadata": {},
   "source": [
    "- 'Storytelling with Data: A Data Visualization Guide for Business Professionals' by Cole Nussbaumer Knaflic"
   ]
  },
  {
   "cell_type": "markdown",
   "id": "36c1f047",
   "metadata": {},
   "source": [
    "## Machine Learning"
   ]
  },
  {
   "cell_type": "markdown",
   "id": "f55af6c2",
   "metadata": {},
   "source": [
    "- 'Machine Learning Simplified: A Gentle Introduction to Supervised Learning' by Andrew Wolf\n",
    "- 'Linear Algebra for Machine Learning' by Jason Brownlee\n",
    "- 'The Elements of Statistical Learning' by Trevor Hastie & Robert Tibshirani & Jerome Friedman\n",
    "- 'Deep Learning for Coders with fastai & PyTorch: AI Applications Without a PhD' by Jeremy Howard & Sylvain Gugger"
   ]
  },
  {
   "cell_type": "markdown",
   "id": "d2d8cc06",
   "metadata": {},
   "source": [
    "More to come!!\n",
    "\n",
    "Gui"
   ]
  },
  {
   "cell_type": "code",
   "execution_count": null,
   "id": "7bc22e9a",
   "metadata": {},
   "outputs": [],
   "source": []
  }
 ],
 "metadata": {
  "kernelspec": {
   "display_name": "Python 3 (ipykernel)",
   "language": "python",
   "name": "python3"
  },
  "language_info": {
   "codemirror_mode": {
    "name": "ipython",
    "version": 3
   },
   "file_extension": ".py",
   "mimetype": "text/x-python",
   "name": "python",
   "nbconvert_exporter": "python",
   "pygments_lexer": "ipython3",
   "version": "3.9.7"
  }
 },
 "nbformat": 4,
 "nbformat_minor": 5
}
