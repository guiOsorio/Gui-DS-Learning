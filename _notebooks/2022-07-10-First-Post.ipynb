{
 "cells": [
  {
   "cell_type": "markdown",
   "id": "5463f169",
   "metadata": {},
   "source": [
    "# My First Post\n",
    "> Intro to blog + some ideas"
   ]
  },
  {
   "cell_type": "markdown",
   "id": "79801598",
   "metadata": {},
   "source": [
    "First post ever!!"
   ]
  },
  {
   "cell_type": "code",
   "execution_count": 1,
   "id": "b2335fea",
   "metadata": {},
   "outputs": [
    {
     "data": {
      "text/plain": [
       "2"
      ]
     },
     "execution_count": 1,
     "metadata": {},
     "output_type": "execute_result"
    }
   ],
   "source": [
    "1+1"
   ]
  },
  {
   "cell_type": "code",
   "execution_count": null,
   "id": "d8a29838",
   "metadata": {},
   "outputs": [],
   "source": []
  }
 ],
 "metadata": {
  "kernelspec": {
   "display_name": "Python 3 (ipykernel)",
   "language": "python",
   "name": "python3"
  },
  "language_info": {
   "codemirror_mode": {
    "name": "ipython",
    "version": 3
   },
   "file_extension": ".py",
   "mimetype": "text/x-python",
   "name": "python",
   "nbconvert_exporter": "python",
   "pygments_lexer": "ipython3",
   "version": "3.9.7"
  }
 },
 "nbformat": 4,
 "nbformat_minor": 5
}
