{
 "cells": [
  {
   "cell_type": "markdown",
   "id": "ddae6383",
   "metadata": {},
   "source": [
    "# My First Post\n",
    "> Intro to blog\n",
    "\n",
    "- toc: true\n",
    "- branch: true\n",
    "- badges: true\n",
    "- comments: true\n",
    "- author: Gui Osorio"
   ]
  },
  {
   "cell_type": "markdown",
   "id": "700add50",
   "metadata": {},
   "source": [
    "## Welcome"
   ]
  },
  {
   "cell_type": "markdown",
   "id": "da50a995",
   "metadata": {},
   "source": [
    "Hello everyone! Welcome to my blog. I hope to answers some basic questions with this post."
   ]
  },
  {
   "cell_type": "markdown",
   "id": "22e0e3b0",
   "metadata": {},
   "source": [
    "## Blog-Related Questions"
   ]
  },
  {
   "cell_type": "markdown",
   "id": "634b23ba",
   "metadata": {},
   "source": [
    "### Who am I and what is my experience?"
   ]
  },
  {
   "cell_type": "markdown",
   "id": "90a8146c",
   "metadata": {},
   "source": [
    "The creation of this blog comes around 3 years deep into my programming journey, and 1 year into my Data Science journey. During this time, I have learned about web development (front-end and back-end), data structures & algorithms, data visualization, data analysis, and more. You get exposed to such a wide range of fascinating topics when learning how to code, and the possibilities are thrilling!! After thinking about pursuing a career in software engineering, I got exposed to the area of Data Science, and have worked to master this topic."
   ]
  },
  {
   "cell_type": "markdown",
   "id": "241a2df9",
   "metadata": {},
   "source": [
    "### Why am I creating this blog?"
   ]
  },
  {
   "cell_type": "markdown",
   "id": "0cdf8ce2",
   "metadata": {},
   "source": [
    "What's the reason behing this blog? Above all, this blog intends to be a way for me to reflect on my learning, and explain some concepts that I study. Teaching is the best form of learning, so this will serve as a good way for me to both learn and be able to revise on concepts I learn throughout time."
   ]
  },
  {
   "cell_type": "markdown",
   "id": "33d64d5b",
   "metadata": {},
   "source": [
    "### What content do I expect to post?"
   ]
  },
  {
   "cell_type": "markdown",
   "id": "74c1bdc2",
   "metadata": {},
   "source": [
    "As I am working to become a data scientist, expect this blog to be centered around this area. There are a vast array of topics you can expect me to talk about here, these include:\n",
    "- Collecting data\n",
    "- Visualizing data\n",
    "- Exploratory data analysis\n",
    "- Statistics concepts\n",
    "- Anything related to machine learning (from linear algebra to building a full neural network model)"
   ]
  },
  {
   "cell_type": "markdown",
   "id": "210e8dbb",
   "metadata": {},
   "source": [
    "I hope you enjoy my blog!\n",
    "\n",
    "Gui"
   ]
  },
  {
   "cell_type": "code",
   "execution_count": null,
   "id": "cf376c60",
   "metadata": {},
   "outputs": [],
   "source": []
  }
 ],
 "metadata": {
  "kernelspec": {
   "display_name": "Python 3 (ipykernel)",
   "language": "python",
   "name": "python3"
  },
  "language_info": {
   "codemirror_mode": {
    "name": "ipython",
    "version": 3
   },
   "file_extension": ".py",
   "mimetype": "text/x-python",
   "name": "python",
   "nbconvert_exporter": "python",
   "pygments_lexer": "ipython3",
   "version": "3.9.7"
  }
 },
 "nbformat": 4,
 "nbformat_minor": 5
}
