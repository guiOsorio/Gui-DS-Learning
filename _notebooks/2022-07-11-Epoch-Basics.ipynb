{
 "cells": [
  {
   "cell_type": "markdown",
   "id": "d30bf7c4",
   "metadata": {},
   "source": [
    "# Machine Learning\n",
    "> Neural Networks - Training Fundamentals\n",
    "\n",
    "- toc: true\n",
    "- branch: true\n",
    "- badges: true\n",
    "- comments: true\n",
    "- author: Gui Osorio"
   ]
  },
  {
   "cell_type": "markdown",
   "id": "9d6d3c33",
   "metadata": {},
   "source": [
    "Post with the goal of giving an overview on how to train a neural network.\n",
    "\n",
    "Before proceeding, we need to create a training set."
   ]
  },
  {
   "cell_type": "code",
   "execution_count": 1,
   "id": "478bd9c4",
   "metadata": {},
   "outputs": [],
   "source": [
    "#collapse-hide\n",
    "import fastbook\n",
    "fastbook.setup_book()\n",
    "from fastai.vision.all import *\n",
    "from fastbook import *\n",
    "\n",
    "import numpy as np\n",
    "import matplotlib.pyplot as plt\n",
    "import torch\n",
    "\n",
    "matplotlib.rc('image', cmap='Greys')"
   ]
  },
  {
   "cell_type": "code",
   "execution_count": 2,
   "id": "cf146574",
   "metadata": {},
   "outputs": [
    {
     "data": {
      "text/plain": [
       "<matplotlib.collections.PathCollection at 0x2b7714f47c0>"
      ]
     },
     "execution_count": 2,
     "metadata": {},
     "output_type": "execute_result"
    },
    {
     "data": {
      "image/png": "[encoded data removed]",
      "text/plain": [
       "<Figure size 432x288 with 1 Axes>"
      ]
     },
     "metadata": {
      "needs_background": "light"
     },
     "output_type": "display_data"
    }
   ],
   "source": [
    "# Create training set of 20 values with some noise\n",
    "# Define values for time variable (x)\n",
    "time = torch.arange(0,20).float()\n",
    "\n",
    "# Define values for speed variable (y/target) - value we are trying to predict\n",
    "speed = torch.randn(20)*3 + 0.75*(time-9.5)**2 + 1\n",
    "\n",
    "plt.scatter(time,speed)"
   ]
  },
  {
   "cell_type": "markdown",
   "id": "59425218",
   "metadata": {},
   "source": [
    "This step creates a quadratic function of a feature time (x) against a target speed (y)."
   ]
  },
  {
   "cell_type": "markdown",
   "id": "fa50f417",
   "metadata": {},
   "source": [
    "## Step 1 - Initialize parameters"
   ]
  },
  {
   "cell_type": "code",
   "execution_count": 3,
   "id": "de7a8a62",
   "metadata": {},
   "outputs": [
    {
     "data": {
      "text/plain": [
       "tensor([-0.7658, -0.7506,  1.3525], requires_grad=True)"
      ]
     },
     "execution_count": 3,
     "metadata": {},
     "output_type": "execute_result"
    }
   ],
   "source": [
    "# Initialize parameters to random values\n",
    "params = torch.randn(3).requires_grad_()\n",
    "orig_params = params.clone()\n",
    "params"
   ]
  },
  {
   "cell_type": "markdown",
   "id": "58b89d42",
   "metadata": {},
   "source": [
    "The step above initializes 3 random parameters and defines a tensor 'params' to store them.\n",
    "\n",
    "The requires_grad_() method is required to allow for the calculation of the gradient of the function, so we can update the parameters later on."
   ]
  },
  {
   "cell_type": "markdown",
   "id": "55d19f51",
   "metadata": {},
   "source": [
    "## Step 2 - Calculate predictions"
   ]
  },
  {
   "cell_type": "code",
   "execution_count": 4,
   "id": "51b99fe4",
   "metadata": {},
   "outputs": [
    {
     "data": {
      "image/png": "[encoded data removed]",
      "text/plain": [
       "<Figure size 432x288 with 1 Axes>"
      ]
     },
     "metadata": {
      "needs_background": "light"
     },
     "output_type": "display_data"
    }
   ],
   "source": [
    "# Define function to be used when predicting our targets \n",
    "def f(t, params):\n",
    "    a,b,c = params\n",
    "    return a*(t**2) + (b*t) + c\n",
    "\n",
    "# Calculate predictions\n",
    "preds = f(time, params)\n",
    "\n",
    "# Visualize predictions\n",
    "def show_preds(preds, ax=None):\n",
    "    if ax is None: ax=plt.subplots()[1]\n",
    "    ax.scatter(time, speed)\n",
    "    ax.scatter(time, to_np(preds), color='red')\n",
    "show_preds(preds)"
   ]
  },
  {
   "cell_type": "markdown",
   "id": "081c41d8",
   "metadata": {},
   "source": [
    "After initializing our weights, we define a function f which will try to predict our target based on our params.\n",
    "\n",
    "This function is very innacurate yet, but don't worry, the process we will go through will train our parameters to match our targets through this function!"
   ]
  },
  {
   "cell_type": "markdown",
   "id": "687304ef",
   "metadata": {},
   "source": [
    "## Step 3 - Calculate loss"
   ]
  },
  {
   "cell_type": "code",
   "execution_count": 5,
   "id": "e35b1dfb",
   "metadata": {},
   "outputs": [
    {
     "data": {
      "text/plain": [
       "tensor(25823.8086, grad_fn=<MeanBackward0>)"
      ]
     },
     "execution_count": 5,
     "metadata": {},
     "output_type": "execute_result"
    }
   ],
   "source": [
    "# Define a loss function (mse in this case)\n",
    "def mse(preds, targets): return ((preds-targets)**2).mean()\n",
    "\n",
    "# Calculate loss based on predictions made earlier\n",
    "loss = mse(preds, speed)\n",
    "loss"
   ]
  },
  {
   "cell_type": "markdown",
   "id": "130efef3",
   "metadata": {},
   "source": [
    "A loss is a metric used to tell our model how close our predictions are from our targets, so it can later update our parameters to be closer to them. (through the calculation of gradients, which we will see above)"
   ]
  },
  {
   "cell_type": "markdown",
   "id": "5e94f8b5",
   "metadata": {},
   "source": [
    "## Step 4 - Calculate gradients"
   ]
  },
  {
   "cell_type": "code",
   "execution_count": 6,
   "id": "0347330c",
   "metadata": {},
   "outputs": [
    {
     "data": {
      "text/plain": [
       "tensor([-53195.8594,  -3419.7148,   -253.8908])"
      ]
     },
     "execution_count": 6,
     "metadata": {},
     "output_type": "execute_result"
    }
   ],
   "source": [
    "# Calculate gradients\n",
    "loss.backward()\n",
    "params.grad"
   ]
  },
  {
   "cell_type": "markdown",
   "id": "87f1deaa",
   "metadata": {},
   "source": [
    "The gradients represent the degree to which our loss function will change given a change in a parameter. This value represents the derivative of our parameters in relation to the loss function. Since we want to minimize our loss function, we can predict in which direction to move our parameters in order to achieve this goal."
   ]
  },
  {
   "cell_type": "markdown",
   "id": "4a14e55d",
   "metadata": {},
   "source": [
    "## Step 5 - Step (update parameters)"
   ]
  },
  {
   "cell_type": "code",
   "execution_count": 7,
   "id": "38f0b473",
   "metadata": {},
   "outputs": [],
   "source": [
    "# Define a learning rate\n",
    "lr = 1e-5\n",
    "\n",
    "# Update params based on lr and gradient\n",
    "params.data -= lr * params.grad.data\n",
    "\n",
    "# Reset gradients\n",
    "params.grad = None"
   ]
  },
  {
   "cell_type": "markdown",
   "id": "7d460fc5",
   "metadata": {},
   "source": [
    "To update our parameters, we need to set a learning rate. The learning rate can't be too small, as it would require more training since the parameters would be optimized very slowly. It also cannot be too large, as we risk missing out on the optimal value for our parameters, or needing unnecessary training epochs."
   ]
  },
  {
   "cell_type": "markdown",
   "id": "97e16809",
   "metadata": {},
   "source": [
    "## Put it all together - train model"
   ]
  },
  {
   "cell_type": "code",
   "execution_count": 8,
   "id": "e87de95d",
   "metadata": {},
   "outputs": [
    {
     "name": "stdout",
     "output_type": "stream",
     "text": [
      "Loss after epoch 1:  5435.53662109375\n",
      "Loss after epoch 2:  1577.4495849609375\n",
      "Loss after epoch 3:  847.3780517578125\n",
      "Loss after epoch 4:  709.2225952148438\n",
      "Loss after epoch 5:  683.0757446289062\n",
      "Loss after epoch 6:  678.1244506835938\n",
      "Loss after epoch 7:  677.1839599609375\n",
      "Loss after epoch 8:  677.0025024414062\n",
      "Loss after epoch 9:  676.9644165039062\n",
      "Loss after epoch 10:  676.9537353515625\n"
     ]
    }
   ],
   "source": [
    "def train_epoch(p, i=None, prn=True): # Option to print loss\n",
    "    preds = f(time, p) # Predictions\n",
    "    loss = mse(preds, speed) # Loss\n",
    "    loss.backward() # Gradients\n",
    "    p.data -= lr * p.grad.data # Step\n",
    "    p.grad = None\n",
    "    if prn and i >= 0: print(f'Loss after epoch {i+1}: ', loss.item()) \n",
    "    elif prn: print(loss.item())\n",
    "    return preds\n",
    "\n",
    "for i in range(10): train_epoch(params, i=i)"
   ]
  },
  {
   "cell_type": "markdown",
   "id": "21b122db",
   "metadata": {},
   "source": [
    "As we can see, our loss is decreasing after each epoch: our model is working!!\n",
    "\n",
    "OBS: although after 10 epochs our loss has always decreased, there is a risk of the loss actually increasing instead. This is called overfitting and is a huge challenge in training ML models in general today."
   ]
  },
  {
   "cell_type": "code",
   "execution_count": 9,
   "id": "166e2641",
   "metadata": {},
   "outputs": [],
   "source": [
    "#hide\n",
    "# reset parameters to original values\n",
    "params = orig_params.detach().requires_grad_()"
   ]
  },
  {
   "cell_type": "code",
   "execution_count": 10,
   "id": "f7bd3746",
   "metadata": {},
   "outputs": [
    {
     "data": {
      "image/png": "[encoded data removed]",
      "text/plain": [
       "<Figure size 864x216 with 4 Axes>"
      ]
     },
     "metadata": {
      "needs_background": "light"
     },
     "output_type": "display_data"
    }
   ],
   "source": [
    "# Visualize first 4 epochs\n",
    "_,axs = plt.subplots(1,4,figsize=(12,3))\n",
    "for ax in axs: show_preds(train_epoch(params, prn=False), ax)\n",
    "plt.tight_layout()"
   ]
  },
  {
   "cell_type": "markdown",
   "id": "e74582d2",
   "metadata": {},
   "source": [
    "Above is the visual representation of the training of our 4 epochs."
   ]
  },
  {
   "cell_type": "markdown",
   "id": "6befad03",
   "metadata": {},
   "source": [
    "**Congratulations! You now know the basic steps of training a neural network!!**"
   ]
  }
 ],
 "metadata": {
  "kernelspec": {
   "display_name": "Python 3 (ipykernel)",
   "language": "python",
   "name": "python3"
  },
  "language_info": {
   "codemirror_mode": {
    "name": "ipython",
    "version": 3
   },
   "file_extension": ".py",
   "mimetype": "text/x-python",
   "name": "python",
   "nbconvert_exporter": "python",
   "pygments_lexer": "ipython3",
   "version": "3.9.7"
  }
 },
 "nbformat": 4,
 "nbformat_minor": 5
}
