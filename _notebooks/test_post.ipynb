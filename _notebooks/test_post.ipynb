{
 "cells": [
  {
   "cell_type": "markdown",
   "id": "af8c574c",
   "metadata": {},
   "source": [
    "# TEST POST"
   ]
  },
  {
   "cell_type": "markdown",
   "id": "f1bc27e0",
   "metadata": {},
   "source": [
    "First post ever!!"
   ]
  },
  {
   "cell_type": "code",
   "execution_count": 1,
   "id": "8a7284ef",
   "metadata": {},
   "outputs": [
    {
     "data": {
      "text/plain": [
       "2"
      ]
     },
     "execution_count": 1,
     "metadata": {},
     "output_type": "execute_result"
    }
   ],
   "source": [
    "1+1"
   ]
  },
  {
   "cell_type": "code",
   "execution_count": null,
   "id": "1da281a1",
   "metadata": {},
   "outputs": [],
   "source": []
  }
 ],
 "metadata": {
  "kernelspec": {
   "display_name": "Python 3 (ipykernel)",
   "language": "python",
   "name": "python3"
  },
  "language_info": {
   "codemirror_mode": {
    "name": "ipython",
    "version": 3
   },
   "file_extension": ".py",
   "mimetype": "text/x-python",
   "name": "python",
   "nbconvert_exporter": "python",
   "pygments_lexer": "ipython3",
   "version": "3.9.7"
  }
 },
 "nbformat": 4,
 "nbformat_minor": 5
}
